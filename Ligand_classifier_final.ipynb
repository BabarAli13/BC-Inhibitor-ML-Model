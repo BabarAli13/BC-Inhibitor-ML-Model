{
  "cells": [
    {
      "cell_type": "code",
      "execution_count": 2,
      "id": "81dbb9fb",
      "metadata": {},
      "outputs": [
        {
          "name": "stdout",
          "output_type": "stream",
          "text": [
            "Requirement already satisfied: tensorflow in /anaconda/envs/azureml_py38/lib/python3.10/site-packages (2.17.0)\n",
            "Requirement already satisfied: absl-py>=1.0.0 in /anaconda/envs/azureml_py38/lib/python3.10/site-packages (from tensorflow) (2.1.0)\n",
            "Requirement already satisfied: flatbuffers>=24.3.25 in /anaconda/envs/azureml_py38/lib/python3.10/site-packages (from tensorflow) (24.3.25)\n",
            "Requirement already satisfied: keras>=3.2.0 in /anaconda/envs/azureml_py38/lib/python3.10/site-packages (from tensorflow) (3.5.0)\n",
            "Requirement already satisfied: ml-dtypes<0.5.0,>=0.3.1 in /anaconda/envs/azureml_py38/lib/python3.10/site-packages (from tensorflow) (0.4.1)\n",
            "Requirement already satisfied: google-pasta>=0.1.1 in /anaconda/envs/azureml_py38/lib/python3.10/site-packages (from tensorflow) (0.2.0)\n",
            "Requirement already satisfied: protobuf!=4.21.0,!=4.21.1,!=4.21.2,!=4.21.3,!=4.21.4,!=4.21.5,<5.0.0dev,>=3.20.3 in /anaconda/envs/azureml_py38/lib/python3.10/site-packages (from tensorflow) (3.20.3)\n",
            "Requirement already satisfied: gast!=0.5.0,!=0.5.1,!=0.5.2,>=0.2.1 in /anaconda/envs/azureml_py38/lib/python3.10/site-packages (from tensorflow) (0.6.0)\n",
            "Requirement already satisfied: requests<3,>=2.21.0 in /anaconda/envs/azureml_py38/lib/python3.10/site-packages (from tensorflow) (2.32.3)\n",
            "Requirement already satisfied: six>=1.12.0 in /anaconda/envs/azureml_py38/lib/python3.10/site-packages (from tensorflow) (1.16.0)\n",
            "Requirement already satisfied: packaging in /anaconda/envs/azureml_py38/lib/python3.10/site-packages (from tensorflow) (24.1)\n",
            "Requirement already satisfied: libclang>=13.0.0 in /anaconda/envs/azureml_py38/lib/python3.10/site-packages (from tensorflow) (18.1.1)\n",
            "Requirement already satisfied: astunparse>=1.6.0 in /anaconda/envs/azureml_py38/lib/python3.10/site-packages (from tensorflow) (1.6.3)\n",
            "Requirement already satisfied: wrapt>=1.11.0 in /anaconda/envs/azureml_py38/lib/python3.10/site-packages (from tensorflow) (1.14.1)\n",
            "Requirement already satisfied: tensorboard<2.18,>=2.17 in /anaconda/envs/azureml_py38/lib/python3.10/site-packages (from tensorflow) (2.17.1)\n",
            "Requirement already satisfied: h5py>=3.10.0 in /anaconda/envs/azureml_py38/lib/python3.10/site-packages (from tensorflow) (3.11.0)\n",
            "Requirement already satisfied: tensorflow-io-gcs-filesystem>=0.23.1 in /anaconda/envs/azureml_py38/lib/python3.10/site-packages (from tensorflow) (0.37.1)\n",
            "Requirement already satisfied: opt-einsum>=2.3.2 in /anaconda/envs/azureml_py38/lib/python3.10/site-packages (from tensorflow) (3.3.0)\n",
            "Requirement already satisfied: grpcio<2.0,>=1.24.3 in /anaconda/envs/azureml_py38/lib/python3.10/site-packages (from tensorflow) (1.65.4)\n",
            "Requirement already satisfied: termcolor>=1.1.0 in /anaconda/envs/azureml_py38/lib/python3.10/site-packages (from tensorflow) (2.4.0)\n",
            "Requirement already satisfied: typing-extensions>=3.6.6 in /anaconda/envs/azureml_py38/lib/python3.10/site-packages (from tensorflow) (4.12.2)\n",
            "Requirement already satisfied: setuptools in /anaconda/envs/azureml_py38/lib/python3.10/site-packages (from tensorflow) (68.0.0)\n",
            "Requirement already satisfied: numpy<2.0.0,>=1.23.5 in /anaconda/envs/azureml_py38/lib/python3.10/site-packages (from tensorflow) (1.23.5)\n",
            "Requirement already satisfied: wheel<1.0,>=0.23.0 in /anaconda/envs/azureml_py38/lib/python3.10/site-packages (from astunparse>=1.6.0->tensorflow) (0.41.2)\n",
            "Requirement already satisfied: optree in /anaconda/envs/azureml_py38/lib/python3.10/site-packages (from keras>=3.2.0->tensorflow) (0.12.1)\n",
            "Requirement already satisfied: rich in /anaconda/envs/azureml_py38/lib/python3.10/site-packages (from keras>=3.2.0->tensorflow) (13.8.1)\n",
            "Requirement already satisfied: namex in /anaconda/envs/azureml_py38/lib/python3.10/site-packages (from keras>=3.2.0->tensorflow) (0.0.8)\n",
            "\u001b[31mERROR: Could not install packages due to an OSError: [Errno 2] No such file or directory: '/anaconda/envs/azureml_py38/lib/python3.10/site-packages/numpy-1.23.5.dist-info/METADATA'\n",
            "\u001b[0m\u001b[31m\n",
            "\u001b[0m"
          ]
        }
      ],
      "source": [
        "!pip install tensorflow"
      ]
    },
    {
      "cell_type": "code",
      "execution_count": null,
      "id": "s_7kDT1hnbDp",
      "metadata": {
        "colab": {
          "base_uri": "https://localhost:8080/"
        },
        "id": "s_7kDT1hnbDp",
        "outputId": "c8c5065c-e328-43c1-df3f-bbaa4646e189"
      },
      "outputs": [
        {
          "name": "stdout",
          "output_type": "stream",
          "text": [
            "Requirement already satisfied: rdkit in /usr/local/lib/python3.11/dist-packages (2024.9.5)\n",
            "Requirement already satisfied: numpy in /usr/local/lib/python3.11/dist-packages (from rdkit) (1.26.4)\n",
            "Requirement already satisfied: Pillow in /usr/local/lib/python3.11/dist-packages (from rdkit) (11.1.0)\n"
          ]
        }
      ],
      "source": [
        "!pip install rdkit\n",
        "import pandas as pd\n",
        "import numpy as np\n",
        "import tensorflow as tf\n",
        "import rdkit\n",
        "import seaborn as sn\n",
        "from rdkit import Chem\n",
        "from rdkit.Chem import AllChem\n",
        "from rdkit.Chem import rdMolDescriptors\n",
        "from rdkit.Chem import Draw\n",
        "from rdkit.Chem.Draw import IPythonConsole\n",
        "from rdkit.Chem import PandasTools\n",
        "from rdkit import DataStructs\n",
        "from rdkit.ML.Cluster import Butina\n",
        "from tqdm import tqdm\n",
        "import warnings\n",
        "warnings.filterwarnings('ignore')\n",
        "from sklearn import tree, model_selection\n",
        "from sklearn.linear_model import SGDClassifier\n",
        "from sklearn.model_selection import GridSearchCV,\\\n",
        "RandomizedSearchCV\n",
        "import sklearn\n",
        "from sklearn import svm\n",
        "from sklearn.neighbors import KNeighborsClassifier\n",
        "from sklearn.ensemble import RandomForestClassifier\n",
        "import sklearn.metrics as metrics\n",
        "from sklearn.metrics import accuracy_score,confusion_matrix,classification_report, matthews_corrcoef\n",
        "from sklearn.naive_bayes import GaussianNB,MultinomialNB\n",
        "from sklearn.metrics import accuracy_score,hamming_loss\n",
        "from sklearn.model_selection import train_test_split\n",
        "from sklearn.feature_extraction.text import TfidfVectorizer\n",
        "from sklearn.model_selection import cross_val_score, cross_val_predict"
      ]
    },
    {
      "cell_type": "code",
      "execution_count": 68,
      "id": "GYXPh40jnbDt",
      "metadata": {
        "colab": {
          "base_uri": "https://localhost:8080/",
          "height": 235
        },
        "id": "GYXPh40jnbDt",
        "outputId": "459e673d-38ca-4819-d7c2-717a9207c76a",
        "scrolled": true
      },
      "outputs": [
        {
          "data": {
            "application/vnd.google.colaboratory.intrinsic+json": {
              "type": "dataframe",
              "variable_name": "df"
            },
            "text/html": [
              "\n",
              "  <div id=\"df-97c582a8-1726-4452-bcdd-20a21d840da3\" class=\"colab-df-container\">\n",
              "    <div>\n",
              "<style scoped>\n",
              "    .dataframe tbody tr th:only-of-type {\n",
              "        vertical-align: middle;\n",
              "    }\n",
              "\n",
              "    .dataframe tbody tr th {\n",
              "        vertical-align: top;\n",
              "    }\n",
              "\n",
              "    .dataframe thead th {\n",
              "        text-align: right;\n",
              "    }\n",
              "</style>\n",
              "<table border=\"1\" class=\"dataframe\">\n",
              "  <thead>\n",
              "    <tr style=\"text-align: right;\">\n",
              "      <th></th>\n",
              "      <th>0</th>\n",
              "      <th>1</th>\n",
              "      <th>2</th>\n",
              "      <th>3</th>\n",
              "      <th>4</th>\n",
              "      <th>5</th>\n",
              "      <th>6</th>\n",
              "      <th>7</th>\n",
              "      <th>8</th>\n",
              "      <th>9</th>\n",
              "      <th>...</th>\n",
              "      <th>2039</th>\n",
              "      <th>2040</th>\n",
              "      <th>2041</th>\n",
              "      <th>2042</th>\n",
              "      <th>2043</th>\n",
              "      <th>2044</th>\n",
              "      <th>2045</th>\n",
              "      <th>2046</th>\n",
              "      <th>2047</th>\n",
              "      <th>Activity</th>\n",
              "    </tr>\n",
              "  </thead>\n",
              "  <tbody>\n",
              "    <tr>\n",
              "      <th>0</th>\n",
              "      <td>0</td>\n",
              "      <td>1</td>\n",
              "      <td>0</td>\n",
              "      <td>0</td>\n",
              "      <td>0</td>\n",
              "      <td>0</td>\n",
              "      <td>0</td>\n",
              "      <td>0</td>\n",
              "      <td>1</td>\n",
              "      <td>0</td>\n",
              "      <td>...</td>\n",
              "      <td>0</td>\n",
              "      <td>0</td>\n",
              "      <td>0</td>\n",
              "      <td>0</td>\n",
              "      <td>0</td>\n",
              "      <td>0</td>\n",
              "      <td>0</td>\n",
              "      <td>0</td>\n",
              "      <td>0</td>\n",
              "      <td>1</td>\n",
              "    </tr>\n",
              "    <tr>\n",
              "      <th>1</th>\n",
              "      <td>0</td>\n",
              "      <td>1</td>\n",
              "      <td>0</td>\n",
              "      <td>0</td>\n",
              "      <td>0</td>\n",
              "      <td>0</td>\n",
              "      <td>0</td>\n",
              "      <td>0</td>\n",
              "      <td>1</td>\n",
              "      <td>0</td>\n",
              "      <td>...</td>\n",
              "      <td>0</td>\n",
              "      <td>0</td>\n",
              "      <td>0</td>\n",
              "      <td>0</td>\n",
              "      <td>0</td>\n",
              "      <td>0</td>\n",
              "      <td>0</td>\n",
              "      <td>0</td>\n",
              "      <td>0</td>\n",
              "      <td>1</td>\n",
              "    </tr>\n",
              "    <tr>\n",
              "      <th>2</th>\n",
              "      <td>0</td>\n",
              "      <td>1</td>\n",
              "      <td>0</td>\n",
              "      <td>0</td>\n",
              "      <td>0</td>\n",
              "      <td>0</td>\n",
              "      <td>0</td>\n",
              "      <td>0</td>\n",
              "      <td>0</td>\n",
              "      <td>0</td>\n",
              "      <td>...</td>\n",
              "      <td>0</td>\n",
              "      <td>0</td>\n",
              "      <td>0</td>\n",
              "      <td>0</td>\n",
              "      <td>0</td>\n",
              "      <td>0</td>\n",
              "      <td>0</td>\n",
              "      <td>0</td>\n",
              "      <td>0</td>\n",
              "      <td>1</td>\n",
              "    </tr>\n",
              "    <tr>\n",
              "      <th>3</th>\n",
              "      <td>0</td>\n",
              "      <td>1</td>\n",
              "      <td>0</td>\n",
              "      <td>0</td>\n",
              "      <td>0</td>\n",
              "      <td>0</td>\n",
              "      <td>0</td>\n",
              "      <td>0</td>\n",
              "      <td>0</td>\n",
              "      <td>0</td>\n",
              "      <td>...</td>\n",
              "      <td>0</td>\n",
              "      <td>0</td>\n",
              "      <td>0</td>\n",
              "      <td>0</td>\n",
              "      <td>0</td>\n",
              "      <td>0</td>\n",
              "      <td>0</td>\n",
              "      <td>0</td>\n",
              "      <td>0</td>\n",
              "      <td>1</td>\n",
              "    </tr>\n",
              "    <tr>\n",
              "      <th>4</th>\n",
              "      <td>0</td>\n",
              "      <td>1</td>\n",
              "      <td>0</td>\n",
              "      <td>0</td>\n",
              "      <td>0</td>\n",
              "      <td>0</td>\n",
              "      <td>0</td>\n",
              "      <td>0</td>\n",
              "      <td>1</td>\n",
              "      <td>0</td>\n",
              "      <td>...</td>\n",
              "      <td>0</td>\n",
              "      <td>0</td>\n",
              "      <td>0</td>\n",
              "      <td>0</td>\n",
              "      <td>0</td>\n",
              "      <td>0</td>\n",
              "      <td>0</td>\n",
              "      <td>0</td>\n",
              "      <td>0</td>\n",
              "      <td>1</td>\n",
              "    </tr>\n",
              "  </tbody>\n",
              "</table>\n",
              "<p>5 rows × 2049 columns</p>\n",
              "</div>\n",
              "    <div class=\"colab-df-buttons\">\n",
              "\n",
              "  <div class=\"colab-df-container\">\n",
              "    <button class=\"colab-df-convert\" onclick=\"convertToInteractive('df-97c582a8-1726-4452-bcdd-20a21d840da3')\"\n",
              "            title=\"Convert this dataframe to an interactive table.\"\n",
              "            style=\"display:none;\">\n",
              "\n",
              "  <svg xmlns=\"http://www.w3.org/2000/svg\" height=\"24px\" viewBox=\"0 -960 960 960\">\n",
              "    <path d=\"M120-120v-720h720v720H120Zm60-500h600v-160H180v160Zm220 220h160v-160H400v160Zm0 220h160v-160H400v160ZM180-400h160v-160H180v160Zm440 0h160v-160H620v160ZM180-180h160v-160H180v160Zm440 0h160v-160H620v160Z\"/>\n",
              "  </svg>\n",
              "    </button>\n",
              "\n",
              "  <style>\n",
              "    .colab-df-container {\n",
              "      display:flex;\n",
              "      gap: 12px;\n",
              "    }\n",
              "\n",
              "    .colab-df-convert {\n",
              "      background-color: #E8F0FE;\n",
              "      border: none;\n",
              "      border-radius: 50%;\n",
              "      cursor: pointer;\n",
              "      display: none;\n",
              "      fill: #1967D2;\n",
              "      height: 32px;\n",
              "      padding: 0 0 0 0;\n",
              "      width: 32px;\n",
              "    }\n",
              "\n",
              "    .colab-df-convert:hover {\n",
              "      background-color: #E2EBFA;\n",
              "      box-shadow: 0px 1px 2px rgba(60, 64, 67, 0.3), 0px 1px 3px 1px rgba(60, 64, 67, 0.15);\n",
              "      fill: #174EA6;\n",
              "    }\n",
              "\n",
              "    .colab-df-buttons div {\n",
              "      margin-bottom: 4px;\n",
              "    }\n",
              "\n",
              "    [theme=dark] .colab-df-convert {\n",
              "      background-color: #3B4455;\n",
              "      fill: #D2E3FC;\n",
              "    }\n",
              "\n",
              "    [theme=dark] .colab-df-convert:hover {\n",
              "      background-color: #434B5C;\n",
              "      box-shadow: 0px 1px 3px 1px rgba(0, 0, 0, 0.15);\n",
              "      filter: drop-shadow(0px 1px 2px rgba(0, 0, 0, 0.3));\n",
              "      fill: #FFFFFF;\n",
              "    }\n",
              "  </style>\n",
              "\n",
              "    <script>\n",
              "      const buttonEl =\n",
              "        document.querySelector('#df-97c582a8-1726-4452-bcdd-20a21d840da3 button.colab-df-convert');\n",
              "      buttonEl.style.display =\n",
              "        google.colab.kernel.accessAllowed ? 'block' : 'none';\n",
              "\n",
              "      async function convertToInteractive(key) {\n",
              "        const element = document.querySelector('#df-97c582a8-1726-4452-bcdd-20a21d840da3');\n",
              "        const dataTable =\n",
              "          await google.colab.kernel.invokeFunction('convertToInteractive',\n",
              "                                                    [key], {});\n",
              "        if (!dataTable) return;\n",
              "\n",
              "        const docLinkHtml = 'Like what you see? Visit the ' +\n",
              "          '<a target=\"_blank\" href=https://colab.research.google.com/notebooks/data_table.ipynb>data table notebook</a>'\n",
              "          + ' to learn more about interactive tables.';\n",
              "        element.innerHTML = '';\n",
              "        dataTable['output_type'] = 'display_data';\n",
              "        await google.colab.output.renderOutput(dataTable, element);\n",
              "        const docLink = document.createElement('div');\n",
              "        docLink.innerHTML = docLinkHtml;\n",
              "        element.appendChild(docLink);\n",
              "      }\n",
              "    </script>\n",
              "  </div>\n",
              "\n",
              "\n",
              "<div id=\"df-3741295f-9b99-4ceb-9ae0-62e5b35f8da7\">\n",
              "  <button class=\"colab-df-quickchart\" onclick=\"quickchart('df-3741295f-9b99-4ceb-9ae0-62e5b35f8da7')\"\n",
              "            title=\"Suggest charts\"\n",
              "            style=\"display:none;\">\n",
              "\n",
              "<svg xmlns=\"http://www.w3.org/2000/svg\" height=\"24px\"viewBox=\"0 0 24 24\"\n",
              "     width=\"24px\">\n",
              "    <g>\n",
              "        <path d=\"M19 3H5c-1.1 0-2 .9-2 2v14c0 1.1.9 2 2 2h14c1.1 0 2-.9 2-2V5c0-1.1-.9-2-2-2zM9 17H7v-7h2v7zm4 0h-2V7h2v10zm4 0h-2v-4h2v4z\"/>\n",
              "    </g>\n",
              "</svg>\n",
              "  </button>\n",
              "\n",
              "<style>\n",
              "  .colab-df-quickchart {\n",
              "      --bg-color: #E8F0FE;\n",
              "      --fill-color: #1967D2;\n",
              "      --hover-bg-color: #E2EBFA;\n",
              "      --hover-fill-color: #174EA6;\n",
              "      --disabled-fill-color: #AAA;\n",
              "      --disabled-bg-color: #DDD;\n",
              "  }\n",
              "\n",
              "  [theme=dark] .colab-df-quickchart {\n",
              "      --bg-color: #3B4455;\n",
              "      --fill-color: #D2E3FC;\n",
              "      --hover-bg-color: #434B5C;\n",
              "      --hover-fill-color: #FFFFFF;\n",
              "      --disabled-bg-color: #3B4455;\n",
              "      --disabled-fill-color: #666;\n",
              "  }\n",
              "\n",
              "  .colab-df-quickchart {\n",
              "    background-color: var(--bg-color);\n",
              "    border: none;\n",
              "    border-radius: 50%;\n",
              "    cursor: pointer;\n",
              "    display: none;\n",
              "    fill: var(--fill-color);\n",
              "    height: 32px;\n",
              "    padding: 0;\n",
              "    width: 32px;\n",
              "  }\n",
              "\n",
              "  .colab-df-quickchart:hover {\n",
              "    background-color: var(--hover-bg-color);\n",
              "    box-shadow: 0 1px 2px rgba(60, 64, 67, 0.3), 0 1px 3px 1px rgba(60, 64, 67, 0.15);\n",
              "    fill: var(--button-hover-fill-color);\n",
              "  }\n",
              "\n",
              "  .colab-df-quickchart-complete:disabled,\n",
              "  .colab-df-quickchart-complete:disabled:hover {\n",
              "    background-color: var(--disabled-bg-color);\n",
              "    fill: var(--disabled-fill-color);\n",
              "    box-shadow: none;\n",
              "  }\n",
              "\n",
              "  .colab-df-spinner {\n",
              "    border: 2px solid var(--fill-color);\n",
              "    border-color: transparent;\n",
              "    border-bottom-color: var(--fill-color);\n",
              "    animation:\n",
              "      spin 1s steps(1) infinite;\n",
              "  }\n",
              "\n",
              "  @keyframes spin {\n",
              "    0% {\n",
              "      border-color: transparent;\n",
              "      border-bottom-color: var(--fill-color);\n",
              "      border-left-color: var(--fill-color);\n",
              "    }\n",
              "    20% {\n",
              "      border-color: transparent;\n",
              "      border-left-color: var(--fill-color);\n",
              "      border-top-color: var(--fill-color);\n",
              "    }\n",
              "    30% {\n",
              "      border-color: transparent;\n",
              "      border-left-color: var(--fill-color);\n",
              "      border-top-color: var(--fill-color);\n",
              "      border-right-color: var(--fill-color);\n",
              "    }\n",
              "    40% {\n",
              "      border-color: transparent;\n",
              "      border-right-color: var(--fill-color);\n",
              "      border-top-color: var(--fill-color);\n",
              "    }\n",
              "    60% {\n",
              "      border-color: transparent;\n",
              "      border-right-color: var(--fill-color);\n",
              "    }\n",
              "    80% {\n",
              "      border-color: transparent;\n",
              "      border-right-color: var(--fill-color);\n",
              "      border-bottom-color: var(--fill-color);\n",
              "    }\n",
              "    90% {\n",
              "      border-color: transparent;\n",
              "      border-bottom-color: var(--fill-color);\n",
              "    }\n",
              "  }\n",
              "</style>\n",
              "\n",
              "  <script>\n",
              "    async function quickchart(key) {\n",
              "      const quickchartButtonEl =\n",
              "        document.querySelector('#' + key + ' button');\n",
              "      quickchartButtonEl.disabled = true;  // To prevent multiple clicks.\n",
              "      quickchartButtonEl.classList.add('colab-df-spinner');\n",
              "      try {\n",
              "        const charts = await google.colab.kernel.invokeFunction(\n",
              "            'suggestCharts', [key], {});\n",
              "      } catch (error) {\n",
              "        console.error('Error during call to suggestCharts:', error);\n",
              "      }\n",
              "      quickchartButtonEl.classList.remove('colab-df-spinner');\n",
              "      quickchartButtonEl.classList.add('colab-df-quickchart-complete');\n",
              "    }\n",
              "    (() => {\n",
              "      let quickchartButtonEl =\n",
              "        document.querySelector('#df-3741295f-9b99-4ceb-9ae0-62e5b35f8da7 button');\n",
              "      quickchartButtonEl.style.display =\n",
              "        google.colab.kernel.accessAllowed ? 'block' : 'none';\n",
              "    })();\n",
              "  </script>\n",
              "</div>\n",
              "\n",
              "    </div>\n",
              "  </div>\n"
            ],
            "text/plain": [
              "   0  1  2  3  4  5  6  7  8  9  ...  2039  2040  2041  2042  2043  2044  \\\n",
              "0  0  1  0  0  0  0  0  0  1  0  ...     0     0     0     0     0     0   \n",
              "1  0  1  0  0  0  0  0  0  1  0  ...     0     0     0     0     0     0   \n",
              "2  0  1  0  0  0  0  0  0  0  0  ...     0     0     0     0     0     0   \n",
              "3  0  1  0  0  0  0  0  0  0  0  ...     0     0     0     0     0     0   \n",
              "4  0  1  0  0  0  0  0  0  1  0  ...     0     0     0     0     0     0   \n",
              "\n",
              "   2045  2046  2047  Activity  \n",
              "0     0     0     0         1  \n",
              "1     0     0     0         1  \n",
              "2     0     0     0         1  \n",
              "3     0     0     0         1  \n",
              "4     0     0     0         1  \n",
              "\n",
              "[5 rows x 2049 columns]"
            ]
          },
          "execution_count": 68,
          "metadata": {},
          "output_type": "execute_result"
        }
      ],
      "source": [
        "df = pd.read_csv(\"balanced_smiles_data_1.csv\")\n",
        "df.head()"
      ]
    },
    {
      "cell_type": "code",
      "execution_count": 69,
      "id": "TfblFSPOnbDv",
      "metadata": {
        "colab": {
          "base_uri": "https://localhost:8080/"
        },
        "id": "TfblFSPOnbDv",
        "outputId": "db5f33bf-086f-44d8-f016-99a89c85fa89"
      },
      "outputs": [
        {
          "data": {
            "text/plain": [
              "(56742, 2048)"
            ]
          },
          "execution_count": 69,
          "metadata": {},
          "output_type": "execute_result"
        }
      ],
      "source": [
        "Xfeatures = df.iloc[:, 0:2048]  # Selects columns 0 to 2047 (2048 columns in total)\n",
        "Xfeatures.shape"
      ]
    },
    {
      "cell_type": "code",
      "execution_count": 70,
      "id": "oXSwIePqnbDw",
      "metadata": {
        "colab": {
          "base_uri": "https://localhost:8080/"
        },
        "id": "oXSwIePqnbDw",
        "outputId": "33a13a76-059a-44ac-b0c7-e3265d807450"
      },
      "outputs": [
        {
          "data": {
            "text/plain": [
              "(56742,)"
            ]
          },
          "execution_count": 70,
          "metadata": {},
          "output_type": "execute_result"
        }
      ],
      "source": [
        "Yfeatures = df['Activity']\n",
        "Yfeatures.shape"
      ]
    },
    {
      "cell_type": "code",
      "execution_count": 71,
      "id": "ADgAQ60AnbDx",
      "metadata": {
        "id": "ADgAQ60AnbDx"
      },
      "outputs": [],
      "source": [
        "X_train,X_test,y_train,y_test = train_test_split(Xfeatures,Yfeatures,test_size=0.3,random_state=42)"
      ]
    },
    {
      "cell_type": "code",
      "execution_count": 72,
      "id": "Z7n-pp8dnbDy",
      "metadata": {
        "colab": {
          "base_uri": "https://localhost:8080/"
        },
        "id": "Z7n-pp8dnbDy",
        "outputId": "593f0c35-d038-480c-b78a-37b25bc53989"
      },
      "outputs": [
        {
          "data": {
            "text/plain": [
              "(39719, 2048)"
            ]
          },
          "execution_count": 72,
          "metadata": {},
          "output_type": "execute_result"
        }
      ],
      "source": [
        "X_train.shape"
      ]
    },
    {
      "cell_type": "code",
      "execution_count": 73,
      "id": "-QK-pdA6nbDy",
      "metadata": {
        "colab": {
          "base_uri": "https://localhost:8080/"
        },
        "id": "-QK-pdA6nbDy",
        "outputId": "5fd0bb86-4e2b-4ef0-942f-933117aeb193"
      },
      "outputs": [
        {
          "data": {
            "text/plain": [
              "(17023, 2048)"
            ]
          },
          "execution_count": 73,
          "metadata": {},
          "output_type": "execute_result"
        }
      ],
      "source": [
        "X_test.shape"
      ]
    },
    {
      "cell_type": "code",
      "execution_count": 74,
      "id": "o7Dgz5VcnbDz",
      "metadata": {
        "colab": {
          "base_uri": "https://localhost:8080/"
        },
        "id": "o7Dgz5VcnbDz",
        "outputId": "57d88e89-164b-40ac-b91c-3b9044f1d543"
      },
      "outputs": [
        {
          "data": {
            "text/plain": [
              "(39719,)"
            ]
          },
          "execution_count": 74,
          "metadata": {},
          "output_type": "execute_result"
        }
      ],
      "source": [
        "y_train.shape"
      ]
    },
    {
      "cell_type": "code",
      "execution_count": 75,
      "id": "B55xvw1JnbDz",
      "metadata": {
        "colab": {
          "base_uri": "https://localhost:8080/"
        },
        "id": "B55xvw1JnbDz",
        "outputId": "0c99aca2-e517-4740-e41d-468d9bc9feac"
      },
      "outputs": [
        {
          "data": {
            "text/plain": [
              "(17023,)"
            ]
          },
          "execution_count": 75,
          "metadata": {},
          "output_type": "execute_result"
        }
      ],
      "source": [
        "y_test.shape"
      ]
    },
    {
      "cell_type": "code",
      "execution_count": 76,
      "id": "BLsEAMYtnbD0",
      "metadata": {
        "colab": {
          "base_uri": "https://localhost:8080/"
        },
        "id": "BLsEAMYtnbD0",
        "outputId": "16e7baad-a82e-4149-8c9d-3687347f1a79"
      },
      "outputs": [
        {
          "name": "stdout",
          "output_type": "stream",
          "text": [
            "DecisionTreeClassifier\n",
            "0.9054220760148035\n",
            "Recall: 0.8522928209359897\n",
            "matthew;s correlation coefficient 0.815308699252647\n",
            "[[8183  357]\n",
            " [1253 7230]]\n",
            "              precision    recall  f1-score   support\n",
            "\n",
            "           0       0.87      0.96      0.91      8540\n",
            "           1       0.95      0.85      0.90      8483\n",
            "\n",
            "    accuracy                           0.91     17023\n",
            "   macro avg       0.91      0.91      0.91     17023\n",
            "weighted avg       0.91      0.91      0.91     17023\n",
            "\n"
          ]
        }
      ],
      "source": [
        "models= [tree.DecisionTreeClassifier()]\n",
        "for model in models:\n",
        "    model.fit(X_train, y_train)\n",
        "    prediction = model.predict(X_test)\n",
        "    print(type(model).__name__)\n",
        "    print(accuracy_score(y_test, prediction))\n",
        "    print(\"Recall:\",metrics.recall_score(y_test, prediction))\n",
        "    print('matthew;s correlation coefficient',matthews_corrcoef(y_test, prediction))\n",
        "    print(confusion_matrix(y_test, prediction))\n",
        "    print(classification_report(y_test, prediction))\n",
        "    #validation_score = cross_val_score(model,Xfeatures,Yfeatures, cv=10)\n",
        "    #print('Cross_validated score: ' , validation_score)\n",
        "    #print('Cross_validated mean: ', validation_score.mean())\n"
      ]
    },
    {
      "cell_type": "code",
      "execution_count": 77,
      "id": "eUm7FHyXnbD0",
      "metadata": {
        "colab": {
          "base_uri": "https://localhost:8080/"
        },
        "id": "eUm7FHyXnbD0",
        "outputId": "09e70f7e-944e-415e-f5f2-48082531d503"
      },
      "outputs": [
        {
          "name": "stdout",
          "output_type": "stream",
          "text": [
            "0.8252951888621277\n",
            "Recall: 0.7867499705292939\n",
            "MCC 0.6523689221791608\n",
            "[[7375 1165]\n",
            " [1809 6674]]\n",
            "              precision    recall  f1-score   support\n",
            "\n",
            "           0       0.80      0.86      0.83      8540\n",
            "           1       0.85      0.79      0.82      8483\n",
            "\n",
            "    accuracy                           0.83     17023\n",
            "   macro avg       0.83      0.83      0.82     17023\n",
            "weighted avg       0.83      0.83      0.83     17023\n",
            "\n"
          ]
        }
      ],
      "source": [
        "dt_min_leaf_entropy = tree.DecisionTreeClassifier(max_depth=30,min_samples_leaf=20, random_state=42, criterion=\"entropy\")\n",
        "dt_min_leaf_entropy.fit(X_train, y_train)\n",
        "y_test_pred = dt_min_leaf_entropy.predict(X_test)\n",
        "print(accuracy_score(y_test, y_test_pred))\n",
        "print(\"Recall:\",metrics.recall_score(y_test, y_test_pred))\n",
        "print(\"MCC\",matthews_corrcoef(y_test, y_test_pred))\n",
        "print(confusion_matrix(y_test, y_test_pred))\n",
        "print(classification_report(y_test, y_test_pred))"
      ]
    },
    {
      "cell_type": "code",
      "execution_count": 78,
      "id": "b2DMEgfenbD1",
      "metadata": {
        "colab": {
          "base_uri": "https://localhost:8080/"
        },
        "id": "b2DMEgfenbD1",
        "outputId": "275f7a4d-d17a-4c82-a234-2ec2c1b5dd32"
      },
      "outputs": [
        {
          "name": "stdout",
          "output_type": "stream",
          "text": [
            "KNeighborsClassifier\n",
            "0.8711742936027728\n",
            "Recall: 0.8159849109984675\n",
            "matthew;s correlation coefficient 0.7467159917989619\n",
            "[[7908  632]\n",
            " [1561 6922]]\n",
            "              precision    recall  f1-score   support\n",
            "\n",
            "           0       0.84      0.93      0.88      8540\n",
            "           1       0.92      0.82      0.86      8483\n",
            "\n",
            "    accuracy                           0.87     17023\n",
            "   macro avg       0.88      0.87      0.87     17023\n",
            "weighted avg       0.88      0.87      0.87     17023\n",
            "\n"
          ]
        }
      ],
      "source": [
        "models= [KNeighborsClassifier()]\n",
        "for model in models:\n",
        "    model.fit(X_train, y_train)\n",
        "    prediction = model.predict(X_test)\n",
        "    print(type(model).__name__)\n",
        "    print(accuracy_score(y_test, prediction))\n",
        "    print(\"Recall:\",metrics.recall_score(y_test, prediction))\n",
        "    print('matthew;s correlation coefficient',matthews_corrcoef(y_test, prediction))\n",
        "    print(confusion_matrix(y_test, prediction))\n",
        "    print(classification_report(y_test, prediction))\n",
        "    #validation_score = cross_val_score(model,Xfeatures,Yfeatures, cv=10)\n",
        "    #print('Cross_validated score: ' , validation_score)\n",
        "    #print('Cross_validated mean: ', validation_score.mean())"
      ]
    },
    {
      "cell_type": "code",
      "execution_count": null,
      "id": "aLgj1W4xnbD1",
      "metadata": {
        "id": "aLgj1W4xnbD1"
      },
      "outputs": [],
      "source": [
        "grid_params = { 'n_neighbors' : [5,7,9,11,13,15],\n",
        "               'weights' : ['uniform','distance'],\n",
        "               'metric' : ['minkowski','euclidean','manhattan']}\n",
        "grid_search = GridSearchCV(KNeighborsClassifier(),\n",
        "                           param_grid=grid_params)\n",
        "grid_search.fit(X_train, y_train)\n",
        "print(grid_search.best_estimator_)"
      ]
    },
    {
      "cell_type": "code",
      "execution_count": null,
      "id": "FjHn-Y6UnbD2",
      "metadata": {
        "id": "FjHn-Y6UnbD2"
      },
      "outputs": [],
      "source": [
        "models= [KNeighborsClassifier(algorithm='auto', leaf_size=30, metric='manhattan',\n",
        "                     metric_params=None, n_jobs=None, n_neighbors=9, p=2,\n",
        "                     weights='distance')]\n",
        "for model in models:\n",
        "    model.fit(X_train, y_train)\n",
        "    prediction = model.predict(X_test)\n",
        "    print(type(model).__name__)\n",
        "    print(accuracy_score(y_test, prediction))\n",
        "    print(\"Recall:\",metrics.recall_score(y_test, prediction))\n",
        "    print('matthew;s correlation coefficient',matthews_corrcoef(y_test, prediction))\n",
        "    print(confusion_matrix(y_test, prediction))\n",
        "    print(classification_report(y_test, prediction))\n",
        "    #validation_score = cross_val_score(model,Xfeatures,Yfeatures, cv=10)\n",
        "    #print('Cross_validated score: ' , validation_score)\n",
        "    #print('Cross_validated mean: ', validation_score.mean())"
      ]
    },
    {
      "cell_type": "code",
      "execution_count": 80,
      "id": "tPtWu4FHnbD2",
      "metadata": {
        "colab": {
          "base_uri": "https://localhost:8080/"
        },
        "id": "tPtWu4FHnbD2",
        "outputId": "99145401-6b71-418e-9998-a4932b434a21"
      },
      "outputs": [
        {
          "name": "stdout",
          "output_type": "stream",
          "text": [
            "0.9127063384832286\n",
            "Recall: 0.8746905575857598\n",
            "[[8117  423]\n",
            " [1063 7420]]\n",
            "matthew;s correlation coefficient 0.8277111983000738\n",
            "              precision    recall  f1-score   support\n",
            "\n",
            "           0       0.88      0.95      0.92      8540\n",
            "           1       0.95      0.87      0.91      8483\n",
            "\n",
            "    accuracy                           0.91     17023\n",
            "   macro avg       0.92      0.91      0.91     17023\n",
            "weighted avg       0.92      0.91      0.91     17023\n",
            "\n"
          ]
        }
      ],
      "source": [
        "rf_clf=RandomForestClassifier(random_state=42)\n",
        "rf_clf.fit(X_train,y_train)\n",
        "y_pred=rf_clf.predict(X_test)\n",
        "print(accuracy_score(y_test, y_pred))\n",
        "print(\"Recall:\",metrics.recall_score(y_test, y_pred))\n",
        "print(confusion_matrix(y_test, y_pred))\n",
        "print('matthew;s correlation coefficient',matthews_corrcoef(y_test, y_pred))\n",
        "print(classification_report(y_test, y_pred))\n",
        "#validation_score = cross_val_score(model,Xfeatures,Yfeatures, cv=10)\n",
        "#print('Cross_validated score: ' , validation_score)\n",
        "#print('Cross_validated mean: ', validation_score.mean())\n"
      ]
    },
    {
      "cell_type": "code",
      "execution_count": null,
      "id": "JP86OBJQnbD2",
      "metadata": {
        "id": "JP86OBJQnbD2"
      },
      "outputs": [],
      "source": [
        "from sklearn.model_selection import GridSearchCV,\\\n",
        "RandomizedSearchCV\n",
        "param_grid = {\n",
        "    'n_estimators': [25, 50, 100, 150],\n",
        "    'max_features': ['sqrt', 'log2', None],\n",
        "    'max_depth': [3, 6, 9],\n",
        "    'max_leaf_nodes': [3, 6, 9],\n",
        "}\n",
        "grid_search = GridSearchCV(RandomForestClassifier(),\n",
        "                           param_grid=param_grid)\n",
        "grid_search.fit(X_train, y_train)\n",
        "print(grid_search.best_estimator_)"
      ]
    },
    {
      "cell_type": "code",
      "execution_count": null,
      "id": "HM2sB3xPnbD3",
      "metadata": {
        "id": "HM2sB3xPnbD3"
      },
      "outputs": [],
      "source": [
        "model_grid = RandomForestClassifier(bootstrap=True, ccp_alpha=0.0, class_weight=None,\n",
        "                       criterion='gini', max_depth=6, max_features='sqrt',\n",
        "                       max_leaf_nodes=9, max_samples=None,\n",
        "                       min_impurity_decrease=0.0, min_impurity_split=None,\n",
        "                       min_samples_leaf=1, min_samples_split=2,\n",
        "                       min_weight_fraction_leaf=0.0, n_estimators=25,\n",
        "                       n_jobs=None, oob_score=False, random_state=None,\n",
        "                       verbose=0, warm_start=False)\n",
        "model_grid.fit(X_train, y_train)\n",
        "y_pred_grid = model.predict(X_test)\n",
        "print(accuracy_score(y_test, y_pred_grid))\n",
        "print(\"Recall:\",metrics.recall_score(y_test, y_pred_grid))\n",
        "print('matthew;s correlation coefficient',matthews_corrcoef(y_test, y_pred_grid))\n",
        "print(confusion_matrix(y_test, y_pred_grid))\n",
        "print(classification_report(y_pred_grid, y_test))"
      ]
    },
    {
      "cell_type": "code",
      "execution_count": null,
      "id": "FAFXCojvnbD3",
      "metadata": {
        "id": "FAFXCojvnbD3",
        "scrolled": true
      },
      "outputs": [],
      "source": [
        "#Create a svm Classifier\n",
        "clf = svm.SVC(kernel='linear') # Linear Kernel\n",
        "\n",
        "#Train the model using the training sets\n",
        "clf.fit(X_train, y_train)\n",
        "\n",
        "#Predict the response for test dataset\n",
        "y_pred = clf.predict(X_test)\n",
        "\n",
        "# Model Oerformance Evaluation\n",
        "print(accuracy_score(y_test, y_pred))\n",
        "print(\"Recall:\",metrics.recall_score(y_test, y_pred))\n",
        "print('matthew;s correlation coefficient',matthews_corrcoef(y_test, y_pred))\n",
        "print(confusion_matrix(y_test, prediction))\n",
        "print(classification_report(y_test, prediction))\n",
        "validation_score = cross_val_score(model,Xfeatures,Yfeatures, cv=10)\n",
        "print('Cross_validated score: ' , validation_score)\n",
        "print('Cross_validated mean: ', validation_score.mean())"
      ]
    },
    {
      "cell_type": "code",
      "execution_count": null,
      "id": "78q2940MnbD3",
      "metadata": {
        "id": "78q2940MnbD3",
        "outputId": "49ee2447-7eb5-4750-b201-0c70e215a995"
      },
      "outputs": [
        {
          "name": "stdout",
          "output_type": "stream",
          "text": [
            "SVC(C=10, break_ties=False, cache_size=200, class_weight=None, coef0=0.0,\n",
            "    decision_function_shape='ovr', degree=3, gamma='scale', kernel='rbf',\n",
            "    max_iter=-1, probability=False, random_state=None, shrinking=True,\n",
            "    tol=0.001, verbose=False)\n"
          ]
        }
      ],
      "source": [
        "param_grid= {'kernel': ('linear', 'rbf'),\n",
        "...              'C': [1, 10, 100]}\n",
        "grid_search = GridSearchCV(svm.SVC(),\n",
        "                           param_grid=param_grid)\n",
        "grid_search.fit(X_train, y_train)\n",
        "print(grid_search.best_estimator_)"
      ]
    },
    {
      "cell_type": "code",
      "execution_count": null,
      "id": "7i3ZNm9ynbD4",
      "metadata": {
        "id": "7i3ZNm9ynbD4",
        "scrolled": true
      },
      "outputs": [],
      "source": [
        "#Create a svm Classifier\n",
        "clf = svm.SVC(C=10, break_ties=False, cache_size=200, class_weight=None, coef0=0.0,\n",
        "    decision_function_shape='ovr', degree=3, gamma='scale', kernel='rbf',\n",
        "    max_iter=-1, probability=False, random_state=None, shrinking=True,\n",
        "    tol=0.001, verbose=False) # Linear Kernel\n",
        "\n",
        "#Train the model using the training sets\n",
        "clf.fit(X_train, y_train)\n",
        "\n",
        "#Predict the response for test dataset\n",
        "y_pred = clf.predict(X_test)\n",
        "\n",
        "# Model Oerformance Evaluation\n",
        "print(accuracy_score(y_test, y_pred))\n",
        "print(\"Recall:\",metrics.recall_score(y_test, y_pred))\n",
        "print('matthew;s correlation coefficient',matthews_corrcoef(y_test, y_pred))\n",
        "print(confusion_matrix(y_test, prediction))\n",
        "print(classification_report(y_test, prediction))\n",
        "#validation_score = cross_val_score(model,Xfeatures,Yfeatures, cv=10)\n",
        "#print('Cross_validated score: ' , validation_score)\n",
        "#print('Cross_validated mean: ', validation_score.mean())"
      ]
    },
    {
      "cell_type": "code",
      "execution_count": null,
      "id": "R3xYxL_dnbD4",
      "metadata": {
        "id": "R3xYxL_dnbD4",
        "scrolled": false
      },
      "outputs": [],
      "source": [
        "# demonstration of calculating metrics for a neural network model using sklearn\n",
        "from sklearn.datasets import make_circles\n",
        "from sklearn.metrics import accuracy_score\n",
        "from sklearn.metrics import precision_score\n",
        "from sklearn.metrics import recall_score\n",
        "from sklearn.metrics import f1_score\n",
        "from sklearn.metrics import cohen_kappa_score\n",
        "from sklearn.metrics import roc_auc_score\n",
        "from sklearn.metrics import confusion_matrix\n",
        "from keras.models import Sequential\n",
        "from keras.layers import Dense\n",
        "# define and fit the model\n",
        "def get_model(X_train, y_train):\n",
        " # define model\n",
        " model = Sequential()\n",
        " model.add(Dense(100, input_shape=(2048,), activation='relu'))\n",
        " model.add(Dense(1, activation='relu'))\n",
        " # compile model\n",
        " model.compile(loss='binary_crossentropy', optimizer='adam', metrics=['accuracy'])\n",
        " # fit model\n",
        " model.fit(X_train, y_train, epochs=300, verbose=0)\n",
        " return model\n",
        "\n",
        "# generate data\n",
        "X_train,X_test,y_train,y_test = train_test_split(Xfeatures,Yfeatures,test_size=0.3,random_state=42)\n",
        "\n",
        "# fit model\n",
        "model_ann = get_model(X_train, y_train)\n",
        "\n",
        "\n",
        "# predict probabilities for test set\n",
        "yhat_probs = model_ann.predict(X_test, verbose=0)\n",
        "# predict crisp classes for test set\n",
        "yhat_classes = (model_ann.predict(X_test) > 0.5).astype(\"int32\")\n",
        "# reduce to 1d array\n",
        "yhat_probs = yhat_probs[:, 0]\n",
        "yhat_classes = yhat_classes[:, 0]\n",
        "\n",
        "# accuracy: (tp + tn) / (p + n)\n",
        "accuracy = accuracy_score(y_test, yhat_classes)\n",
        "print('Accuracy: %f' % accuracy)\n",
        "print(\"MCC:\",matthews_corrcoef(y_test, yhat_classes))\n",
        "# precision tp / (tp + fp)\n",
        "precision = metrics.precision_score(y_test, yhat_classes)\n",
        "print('Precision: %f' % precision)\n",
        "# recall: tp / (tp + fn)\n",
        "recall = metrics.recall_score(y_test, yhat_classes)\n",
        "print('Recall: %f' % recall)\n",
        "# f1: 2 tp / (2 tp + fp + fn)\n",
        "f1 = metrics.f1_score(y_test, yhat_classes)\n",
        "print('F1 score: %f' % f1)\n",
        "# confusion matrix\n",
        "matrix = confusion_matrix(y_test, yhat_classes)\n",
        "print(matrix)"
      ]
    },
    {
      "cell_type": "code",
      "execution_count": null,
      "id": "mh9P3OqRnbD5",
      "metadata": {
        "id": "mh9P3OqRnbD5"
      },
      "outputs": [],
      "source": [
        "# demonstration of calculating metrics for a neural network model using sklearn\n",
        "from sklearn.datasets import make_circles\n",
        "from sklearn.metrics import accuracy_score\n",
        "from sklearn.metrics import precision_score\n",
        "from sklearn.metrics import recall_score\n",
        "from sklearn.metrics import f1_score\n",
        "from sklearn.metrics import cohen_kappa_score\n",
        "from sklearn.metrics import roc_auc_score\n",
        "from sklearn.metrics import confusion_matrix\n",
        "from keras.models import Sequential\n",
        "from keras.layers import Dense\n",
        "# define and fit the model\n",
        "def get_model(X_train, y_train):\n",
        " # define model\n",
        " model = Sequential()\n",
        " model.add(Dense(100, input_shape=(2048,), activation='sigmoid'))\n",
        " model.add(Dense(1, activation='sigmoid'))\n",
        " # compile model\n",
        " model.compile(loss='binary_crossentropy', optimizer='adam', metrics=['accuracy'])\n",
        " # fit model\n",
        " model.fit(X_train, y_train, epochs=300, verbose=0)\n",
        " return model\n",
        "\n",
        "# generate data\n",
        "X_train,X_test,y_train,y_test = train_test_split(Xfeatures,Yfeatures,test_size=0.3,random_state=42)\n",
        "\n",
        "# fit model\n",
        "model_ann = get_model(X_train, y_train)\n",
        "\n",
        "\n",
        "# predict probabilities for test set\n",
        "yhat_probs = model_ann.predict(X_test, verbose=0)\n",
        "# predict crisp classes for test set\n",
        "yhat_classes = (model_ann.predict(X_test) > 0.5).astype(\"int32\")\n",
        "# reduce to 1d array\n",
        "yhat_probs = yhat_probs[:, 0]\n",
        "yhat_classes = yhat_classes[:, 0]\n",
        "\n",
        "# accuracy: (tp + tn) / (p + n)\n",
        "accuracy = accuracy_score(y_test, yhat_classes)\n",
        "print('Accuracy: %f' % accuracy)\n",
        "print(\"MCC:\",matthews_corrcoef(y_test, yhat_classes))\n",
        "# precision tp / (tp + fp)\n",
        "precision = metrics.precision_score(y_test, yhat_classes)\n",
        "print('Precision: %f' % precision)\n",
        "# recall: tp / (tp + fn)\n",
        "recall = metrics.recall_score(y_test, yhat_classes)\n",
        "print('Recall: %f' % recall)\n",
        "# f1: 2 tp / (2 tp + fp + fn)\n",
        "f1 = metrics.f1_score(y_test, yhat_classes)\n",
        "print('F1 score: %f' % f1)\n",
        "# confusion matrix\n",
        "matrix = confusion_matrix(y_test, yhat_classes)\n",
        "print(matrix)"
      ]
    },
    {
      "cell_type": "code",
      "execution_count": null,
      "id": "VxNXqoifnbD5",
      "metadata": {
        "id": "VxNXqoifnbD5"
      },
      "outputs": [],
      "source": [
        "res = pd.DataFrame(y_test)\n",
        "res.index = x_test.index # its important for comparison\n",
        "res.columns = [\"actual output\"]\n",
        "res.to_csv(\"Actual output.csv\")\n",
        "res = pd.DataFrame(prediction)\n",
        "res.index = x_test.index # its important for comparison\n",
        "res.columns = [\"prediction\"]\n",
        "res.to_csv(\"prediction_results.csv\")"
      ]
    }
  ],
  "metadata": {
    "accelerator": "TPU",
    "colab": {
      "gpuType": "V28",
      "provenance": []
    },
    "kernelspec": {
      "display_name": "Python 3",
      "language": "python",
      "name": "python3"
    },
    "language_info": {
      "codemirror_mode": {
        "name": "ipython",
        "version": 3
      },
      "file_extension": ".py",
      "mimetype": "text/x-python",
      "name": "python",
      "nbconvert_exporter": "python",
      "pygments_lexer": "ipython3",
      "version": "3.8.10"
    }
  },
  "nbformat": 4,
  "nbformat_minor": 5
}
